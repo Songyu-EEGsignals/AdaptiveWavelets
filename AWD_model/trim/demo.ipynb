{
 "cells": [
  {
   "cell_type": "code",
   "execution_count": 28,
   "metadata": {},
   "outputs": [],
   "source": [
    "from functools import partial\n",
    "\n",
    "import torch\n",
    "import torch.nn as nn\n",
    "\n",
    "from trim import TrimModel\n",
    "\n",
    "# setup a trim model\n",
    "model = nn.Sequential(nn.Linear(10, 10), nn.ReLU(), nn.Linear(10, 1))  # orig model\n",
    "transform = partial(torch.rfft, signal_ndim=1, onesided=False)  # fft\n",
    "inv_transform = partial(torch.irfft, signal_ndim=1, onesided=False)  # inverse fft\n",
    "model_trim = TrimModel(model=model, inv_transform=inv_transform)  # trim model\n",
    "\n",
    "# get a data point\n",
    "x = torch.randn(1, 10)\n",
    "s = transform(x)\n",
    "\n",
    "# can now use any attribution method on the trim model\n",
    "# get (input_x_gradient) attribution in the fft space\n",
    "s.requires_grad = True\n",
    "model_trim(s).backward()\n",
    "input_x_gradient = s.grad * s"
   ]
  }
 ],
 "metadata": {
  "kernelspec": {
   "display_name": "Python 3",
   "language": "python",
   "name": "python3"
  },
  "language_info": {
   "codemirror_mode": {
    "name": "ipython",
    "version": 3
   },
   "file_extension": ".py",
   "mimetype": "text/x-python",
   "name": "python",
   "nbconvert_exporter": "python",
   "pygments_lexer": "ipython3",
   "version": "3.7.5"
  }
 },
 "nbformat": 4,
 "nbformat_minor": 4
}